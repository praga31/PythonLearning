{
 "cells": [
  {
   "cell_type": "markdown",
   "id": "d8299eda-1c64-41f5-bb90-369de80691a3",
   "metadata": {},
   "source": [
    "# List"
   ]
  },
  {
   "cell_type": "code",
   "execution_count": 2,
   "id": "7835cb3d-51e5-43a4-988f-fc6d1a289c89",
   "metadata": {},
   "outputs": [
    {
     "name": "stdout",
     "output_type": "stream",
     "text": [
      "6\n",
      "12\n",
      "15\n",
      "21\n",
      "36\n"
     ]
    }
   ],
   "source": [
    "#Exercise 1: Iterate over a list of numbers and print each number multiplied by 3.\n",
    "A = [2,4,5,7,12]\n",
    "for i in A:\n",
    "     print(i*3)"
   ]
  },
  {
   "cell_type": "code",
   "execution_count": 5,
   "id": "36fc1ba9-0b70-4d1d-959c-3d7336a63779",
   "metadata": {},
   "outputs": [
    {
     "name": "stdout",
     "output_type": "stream",
     "text": [
      "2\n",
      "5\n",
      "11\n",
      "7\n"
     ]
    }
   ],
   "source": [
    "#Exercise 2: Iterate through a list of strings and print the length of each string.\n",
    "A = [\"Hi\", \"Hello\", \"How are you\", \"Whatsup\"]\n",
    "for i in A:\n",
    "    print(len(i))"
   ]
  },
  {
   "cell_type": "code",
   "execution_count": 9,
   "id": "23e8c49c-7255-4f7d-9a1a-399a813cca1b",
   "metadata": {},
   "outputs": [
    {
     "name": "stdout",
     "output_type": "stream",
     "text": [
      "5\n",
      "10\n",
      "15\n",
      "25\n"
     ]
    }
   ],
   "source": [
    "#Exercise 3: Create a list of integers and print only those that are divisible by 5\n",
    "A = [4,5,10,15,17,25,12]\n",
    "for i in A:\n",
    "    if i%5==0:\n",
    "        print(i)"
   ]
  },
  {
   "cell_type": "code",
   "execution_count": 19,
   "id": "f3aff0a9-f9ad-4195-b466-7e432bbbbc60",
   "metadata": {},
   "outputs": [
    {
     "name": "stdout",
     "output_type": "stream",
     "text": [
      "[5, 10, 15, 25]\n"
     ]
    }
   ],
   "source": [
    "#Exercise 3: Create a list of integers and print only those that are divisible by 5 (Shown in list)\n",
    "A = [4,5,10,15,17,25,12]\n",
    "B = []\n",
    "for i in A:\n",
    "    if i%5==0:\n",
    "        B.append(i)\n",
    "print(B)"
   ]
  },
  {
   "cell_type": "code",
   "execution_count": 26,
   "id": "56bb7438-d5bc-42e7-a273-aa19e2c5efb7",
   "metadata": {},
   "outputs": [
    {
     "name": "stdout",
     "output_type": "stream",
     "text": [
      "4\n",
      "25\n",
      "12\n"
     ]
    }
   ],
   "source": [
    "#Exercise 4: Given a list of mixed data types, print only the elements that are of type int\n",
    "A = [4,\"Hi\",10.00,True,1+2j,25,12]\n",
    "for i in A:\n",
    "    if type(i) == int:\n",
    "        print(i)"
   ]
  },
  {
   "cell_type": "markdown",
   "id": "6ec5996d-c199-4d52-a406-50aa6101e8e8",
   "metadata": {},
   "source": [
    "# Tuple"
   ]
  },
  {
   "cell_type": "code",
   "execution_count": 29,
   "id": "e342337a-b12f-4447-8c78-60effcd6557a",
   "metadata": {},
   "outputs": [
    {
     "name": "stdout",
     "output_type": "stream",
     "text": [
      "88\n"
     ]
    }
   ],
   "source": [
    "#exercise 1: Iterate through a tuple of numbers and print their sum.\n",
    "A = (4,5,10,15,17,25,12)\n",
    "B = 0\n",
    "for i in A:\n",
    "    B+=i\n",
    "print(B)\n",
    "    "
   ]
  },
  {
   "cell_type": "code",
   "execution_count": 38,
   "id": "0d6bb731-ab54-4cf6-887f-83f96d4f5e17",
   "metadata": {},
   "outputs": [
    {
     "name": "stdout",
     "output_type": "stream",
     "text": [
      "iH\n",
      "olleH\n",
      "uoy era woH\n",
      "pustahW\n"
     ]
    }
   ],
   "source": [
    "#Exercise 2: Create a tuple of strings and print each string reversed.\n",
    "A = (\"Hi\", \"Hello\", \"How are you\", \"Whatsup\")\n",
    "for i in A:\n",
    "    print(i[::-1])\n",
    "    \n",
    "    "
   ]
  },
  {
   "cell_type": "code",
   "execution_count": 56,
   "id": "01682ff0-423a-4999-bc0c-32db72bd09e8",
   "metadata": {},
   "outputs": [
    {
     "name": "stdout",
     "output_type": "stream",
     "text": [
      "25\n"
     ]
    }
   ],
   "source": [
    "#Exercise 4: Create a tuple of integers and find the largest number using a for loop\n",
    "A = (4,5,10,15,17,25,12)\n",
    "Max = A[0]\n",
    "for i in A:\n",
    "    if i > Max:\n",
    "        Max = i\n",
    "print(Max)\n",
    "    "
   ]
  },
  {
   "cell_type": "markdown",
   "id": "c7ab6a31-709f-4a2a-93a6-39589d0e1be6",
   "metadata": {},
   "source": [
    "# Set"
   ]
  },
  {
   "cell_type": "code",
   "execution_count": 57,
   "id": "0256a4b0-f06c-47c2-a066-33b2a88de846",
   "metadata": {},
   "outputs": [
    {
     "name": "stdout",
     "output_type": "stream",
     "text": [
      "289\n",
      "16\n",
      "25\n",
      "625\n",
      "100\n",
      "144\n",
      "225\n"
     ]
    }
   ],
   "source": [
    "#Exercise 1: Iterate through a set of numbers and print the square root of each number\n",
    "A = {4,5,10,15,17,25,12}\n",
    "for i in A:\n",
    "    print(i*i)\n",
    "\n"
   ]
  },
  {
   "cell_type": "code",
   "execution_count": 77,
   "id": "df020164-0885-43e9-80fd-e6919c4d1f44",
   "metadata": {},
   "outputs": [
    {
     "name": "stdout",
     "output_type": "stream",
     "text": [
      "apple\n",
      "orange\n"
     ]
    }
   ],
   "source": [
    "#Exercise 2: Create a set of strings and print only the ones that start with a vowel.\n",
    "A = {\"apple\",\"Banana\",\"orange\",\"Grape\",\"Chikku\"}\n",
    "B = {\"a\",\"e\",\"i\",\"o\",\"u\"}\n",
    "for i in A:\n",
    "    for j in B:\n",
    "        if i[0]==j:\n",
    "            print(i)\n",
    "    "
   ]
  },
  {
   "cell_type": "code",
   "execution_count": null,
   "id": "c1bf4932-d8f5-40b4-bcad-71d5338f0e17",
   "metadata": {},
   "outputs": [],
   "source": []
  }
 ],
 "metadata": {
  "kernelspec": {
   "display_name": "Python 3 (ipykernel)",
   "language": "python",
   "name": "python3"
  },
  "language_info": {
   "codemirror_mode": {
    "name": "ipython",
    "version": 3
   },
   "file_extension": ".py",
   "mimetype": "text/x-python",
   "name": "python",
   "nbconvert_exporter": "python",
   "pygments_lexer": "ipython3",
   "version": "3.12.7"
  }
 },
 "nbformat": 4,
 "nbformat_minor": 5
}
